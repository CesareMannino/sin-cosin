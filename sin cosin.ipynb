{
 "cells": [
  {
   "cell_type": "code",
   "execution_count": 61,
   "metadata": {},
   "outputs": [],
   "source": [
    "#Python Projects for beginners\n",
    "#Generating sine and cosine curve\n",
    "\n",
    "\n",
    "import numpy as np\n",
    "import matplotlib.pylab as plt\n",
    "plt.show()\n",
    "x=np.linspace(-360,360,num=180)\n",
    "x=np.deg2rad(x)\n",
    "y1=np.sin(x)\n",
    "y2=np.cos(x)\n",
    "\n",
    "#Drawing sin and cos functions\n",
    "plt.plot(x,y1,color='blue',linewidth=1.5, label=\"Sin(x)\")\n",
    "plt.scatter([-np.deg2rad(180),-np.deg2rad(90),np.deg2rad(0),np.deg2rad(90),np.deg2rad(180)],[0,-1,0,1,0],c='green')\n",
    "plt.plot(x,y2,color='orange', label=\"Cos(x)\")\n",
    "plt.scatter([-np.deg2rad(180),-np.deg2rad(90),np.deg2rad(0),np.deg2rad(90),np.deg2rad(180)],[-1,0,1,0,-1],c='red',marker='+')\n",
    "plt.xlabel('Angle [rad]')\n",
    "plt.ylabel('sin(x):blue \\n cos(x):orange')\n",
    "plt.legend()\n",
    "#plt.axis('tight')\n",
    "plt.show()\n",
    "\n",
    "\n"
   ]
  }
 ],
 "metadata": {
  "kernelspec": {
   "display_name": "Python 3",
   "language": "python",
   "name": "python3"
  },
  "language_info": {
   "codemirror_mode": {
    "name": "ipython",
    "version": 3
   },
   "file_extension": ".py",
   "mimetype": "text/x-python",
   "name": "python",
   "nbconvert_exporter": "python",
   "pygments_lexer": "ipython3",
   "version": "3.7.3"
  }
 },
 "nbformat": 4,
 "nbformat_minor": 2
}
